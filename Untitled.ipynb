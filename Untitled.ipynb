{
 "cells": [
  {
   "cell_type": "code",
   "execution_count": 3,
   "id": "7f0e6070",
   "metadata": {},
   "outputs": [
    {
     "name": "stdout",
     "output_type": "stream",
     "text": [
      "50\n",
      "15\n",
      "Hola Mundo\n",
      "Hola Hola \n",
      " \n",
      "ola \n",
      "[1, 2, 3, 1, 2, 3]\n"
     ]
    }
   ],
   "source": [
    "a = 10\n",
    "b = -5\n",
    "c = \"Hola \"\n",
    "d = [1, 2, 3]\n",
    "\n",
    "print(a * 5)  #50\n",
    "print(a - b)  #15\n",
    "print(c + \"Mundo\")  #Hola Mundo   \n",
    "print(c * 2)  #Hola Hola      \n",
    "print(c[-1])  #   \n",
    "print(c[1:])  #ola \n",
    "print(d + d)  #[1,2,3,1,2,3]"
   ]
  }
 ],
 "metadata": {
  "kernelspec": {
   "display_name": "Python 3 (ipykernel)",
   "language": "python",
   "name": "python3"
  },
  "language_info": {
   "codemirror_mode": {
    "name": "ipython",
    "version": 3
   },
   "file_extension": ".py",
   "mimetype": "text/x-python",
   "name": "python",
   "nbconvert_exporter": "python",
   "pygments_lexer": "ipython3",
   "version": "3.10.7"
  }
 },
 "nbformat": 4,
 "nbformat_minor": 5
}
